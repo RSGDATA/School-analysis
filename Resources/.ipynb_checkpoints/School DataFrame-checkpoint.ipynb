{
 "cells": [
  {
   "cell_type": "code",
   "execution_count": 252,
   "id": "03e91f7c",
   "metadata": {},
   "outputs": [
    {
     "data": {
      "text/html": [
       "<div>\n",
       "<style scoped>\n",
       "    .dataframe tbody tr th:only-of-type {\n",
       "        vertical-align: middle;\n",
       "    }\n",
       "\n",
       "    .dataframe tbody tr th {\n",
       "        vertical-align: top;\n",
       "    }\n",
       "\n",
       "    .dataframe thead th {\n",
       "        text-align: right;\n",
       "    }\n",
       "</style>\n",
       "<table border=\"1\" class=\"dataframe\">\n",
       "  <thead>\n",
       "    <tr style=\"text-align: right;\">\n",
       "      <th></th>\n",
       "      <th>Student ID</th>\n",
       "      <th>student_name</th>\n",
       "      <th>gender</th>\n",
       "      <th>grade</th>\n",
       "      <th>school_name</th>\n",
       "      <th>reading_score</th>\n",
       "      <th>math_score</th>\n",
       "      <th>School ID</th>\n",
       "      <th>type</th>\n",
       "      <th>size</th>\n",
       "      <th>budget</th>\n",
       "    </tr>\n",
       "  </thead>\n",
       "  <tbody>\n",
       "    <tr>\n",
       "      <th>0</th>\n",
       "      <td>0</td>\n",
       "      <td>Paul Bradley</td>\n",
       "      <td>M</td>\n",
       "      <td>9th</td>\n",
       "      <td>Huang High School</td>\n",
       "      <td>66</td>\n",
       "      <td>79</td>\n",
       "      <td>0</td>\n",
       "      <td>District</td>\n",
       "      <td>2917</td>\n",
       "      <td>1910635</td>\n",
       "    </tr>\n",
       "    <tr>\n",
       "      <th>1</th>\n",
       "      <td>1</td>\n",
       "      <td>Victor Smith</td>\n",
       "      <td>M</td>\n",
       "      <td>12th</td>\n",
       "      <td>Huang High School</td>\n",
       "      <td>94</td>\n",
       "      <td>61</td>\n",
       "      <td>0</td>\n",
       "      <td>District</td>\n",
       "      <td>2917</td>\n",
       "      <td>1910635</td>\n",
       "    </tr>\n",
       "    <tr>\n",
       "      <th>2</th>\n",
       "      <td>2</td>\n",
       "      <td>Kevin Rodriguez</td>\n",
       "      <td>M</td>\n",
       "      <td>12th</td>\n",
       "      <td>Huang High School</td>\n",
       "      <td>90</td>\n",
       "      <td>60</td>\n",
       "      <td>0</td>\n",
       "      <td>District</td>\n",
       "      <td>2917</td>\n",
       "      <td>1910635</td>\n",
       "    </tr>\n",
       "    <tr>\n",
       "      <th>3</th>\n",
       "      <td>3</td>\n",
       "      <td>Dr. Richard Scott</td>\n",
       "      <td>M</td>\n",
       "      <td>12th</td>\n",
       "      <td>Huang High School</td>\n",
       "      <td>67</td>\n",
       "      <td>58</td>\n",
       "      <td>0</td>\n",
       "      <td>District</td>\n",
       "      <td>2917</td>\n",
       "      <td>1910635</td>\n",
       "    </tr>\n",
       "    <tr>\n",
       "      <th>4</th>\n",
       "      <td>4</td>\n",
       "      <td>Bonnie Ray</td>\n",
       "      <td>F</td>\n",
       "      <td>9th</td>\n",
       "      <td>Huang High School</td>\n",
       "      <td>97</td>\n",
       "      <td>84</td>\n",
       "      <td>0</td>\n",
       "      <td>District</td>\n",
       "      <td>2917</td>\n",
       "      <td>1910635</td>\n",
       "    </tr>\n",
       "  </tbody>\n",
       "</table>\n",
       "</div>"
      ],
      "text/plain": [
       "   Student ID       student_name gender grade        school_name  \\\n",
       "0           0       Paul Bradley      M   9th  Huang High School   \n",
       "1           1       Victor Smith      M  12th  Huang High School   \n",
       "2           2    Kevin Rodriguez      M  12th  Huang High School   \n",
       "3           3  Dr. Richard Scott      M  12th  Huang High School   \n",
       "4           4         Bonnie Ray      F   9th  Huang High School   \n",
       "\n",
       "   reading_score  math_score  School ID      type  size   budget  \n",
       "0             66          79          0  District  2917  1910635  \n",
       "1             94          61          0  District  2917  1910635  \n",
       "2             90          60          0  District  2917  1910635  \n",
       "3             67          58          0  District  2917  1910635  \n",
       "4             97          84          0  District  2917  1910635  "
      ]
     },
     "execution_count": 252,
     "metadata": {},
     "output_type": "execute_result"
    }
   ],
   "source": [
    "# Dependencies and Setup\n",
    "import pandas as pd\n",
    "\n",
    "# File to Load (Remember to Change These)\n",
    "school_data_to_load = \"schools_complete.csv\"\n",
    "student_data_to_load = \"students_complete.csv\"\n",
    "\n",
    "# Read School and Student Data File and store into Pandas DataFrames\n",
    "school_data = pd.read_csv(school_data_to_load)\n",
    "student_data = pd.read_csv(student_data_to_load)\n",
    "\n",
    "# Combine the data into a single dataset.  \n",
    "school_data_complete = pd.merge(student_data, school_data, how=\"left\", on=[\"school_name\", \"school_name\"])\n",
    "\n",
    "\n",
    "school_data_complete.head()\n",
    "\n"
   ]
  },
  {
   "cell_type": "code",
   "execution_count": 272,
   "id": "5e5ac1b5",
   "metadata": {},
   "outputs": [
    {
     "data": {
      "text/html": [
       "<div>\n",
       "<style scoped>\n",
       "    .dataframe tbody tr th:only-of-type {\n",
       "        vertical-align: middle;\n",
       "    }\n",
       "\n",
       "    .dataframe tbody tr th {\n",
       "        vertical-align: top;\n",
       "    }\n",
       "\n",
       "    .dataframe thead th {\n",
       "        text-align: right;\n",
       "    }\n",
       "</style>\n",
       "<table border=\"1\" class=\"dataframe\">\n",
       "  <thead>\n",
       "    <tr style=\"text-align: right;\">\n",
       "      <th></th>\n",
       "      <th>Total Schools</th>\n",
       "      <th>Total Students</th>\n",
       "      <th>Total Budget</th>\n",
       "      <th>Average Math Score</th>\n",
       "      <th>Average Reading Score</th>\n",
       "      <th>% Passing Math</th>\n",
       "      <th>% Passing Reading</th>\n",
       "      <th>% Overall Passing</th>\n",
       "    </tr>\n",
       "  </thead>\n",
       "  <tbody>\n",
       "    <tr>\n",
       "      <th>0</th>\n",
       "      <td>15</td>\n",
       "      <td>39170</td>\n",
       "      <td>24649428</td>\n",
       "      <td>78.985371</td>\n",
       "      <td>81.87784</td>\n",
       "      <td>74.980853</td>\n",
       "      <td>85.805463</td>\n",
       "      <td>65.172326</td>\n",
       "    </tr>\n",
       "  </tbody>\n",
       "</table>\n",
       "</div>"
      ],
      "text/plain": [
       "   Total Schools  Total Students  Total Budget  Average Math Score  \\\n",
       "0             15           39170      24649428           78.985371   \n",
       "\n",
       "   Average Reading Score  % Passing Math  % Passing Reading  % Overall Passing  \n",
       "0               81.87784       74.980853          85.805463          65.172326  "
      ]
     },
     "execution_count": 272,
     "metadata": {},
     "output_type": "execute_result"
    }
   ],
   "source": [
    "school_count = len(school_data)\n",
    "\n",
    "student_count = len(school_data_complete)\n",
    "\n",
    "total_budget = school_data[\"budget\"].sum()\n",
    "\n",
    "average_math_score = renamed_df[\"Average Math Score\"].mean()\n",
    "\n",
    "average_reading_score = renamed_df[\"Average Reading Score\"].mean()\n",
    "\n",
    "total_passing_math_df = renamed_df.loc[renamed_df[\"Average Math Score\"]>= 70]\n",
    "total_passing_math = len(total_passing_math_df)\n",
    "\n",
    "percent_passing_math = total_passing_math / total_students * 100\n",
    "\n",
    "total_passing_reading_df = renamed_df.loc[renamed_df[\"Average Reading Score\"]>= 70]\n",
    "total_passing_reading = len(total_passing_reading_df)\n",
    "\n",
    "percent_passing_reading = total_passing_reading / total_students * 100\n",
    "\n",
    "# total_passing = renamed_df.loc[renamed_df[\"% Overall Passing\"] >= 70, [\n",
    "#     \"Average Math Score\", \"% Overall Passing\", \"Average Reading Score\"]]\n",
    "# total_passing()\n",
    "\n",
    "passing_math_reading_count = school_data_complete[(school_data_complete[\"math_score\"] >= 70) & (school_data_complete[\"reading_score\"] >= 70)].count()[\"student_name\"]\n",
    "\n",
    "passing_math_reading_count\n",
    "\n",
    "total_passing = passing_math_reading_count / student_count * 100\n",
    "\n",
    "total_passing\n",
    "\n",
    "\n",
    "# school_count = school_data_complete['school_name'].unique()\n",
    "# school_count = len(school_count)\n",
    "# school_count\n",
    "\n",
    "\n",
    "school_summary = pd.DataFrame({\n",
    "    \n",
    "                                \"Total Schools\": [school_count],\n",
    "                                \"Total Students\": [student_count],\n",
    "                                \"Total Budget\": [total_budget],\n",
    "                                \"Average Math Score\": [average_math_score],\n",
    "                                \"Average Reading Score\": [average_reading_score],\n",
    "                                \"% Passing Math\": [percent_passing_math],\n",
    "                                \"% Passing Reading\": [percent_passing_reading],\n",
    "                                \"% Overall Passing\": [total_passing]\n",
    "    \n",
    "                              })\n",
    "school_summary"
   ]
  },
  {
   "cell_type": "code",
   "execution_count": 267,
   "id": "3df5ef83",
   "metadata": {},
   "outputs": [
    {
     "data": {
      "text/plain": [
       "65.17232575950983"
      ]
     },
     "execution_count": 267,
     "metadata": {},
     "output_type": "execute_result"
    }
   ],
   "source": [
    "# read_math_per = school_data_complete[(school_data_complete[\"reading_score\"] >= 70) & (school_data_complete[\"math_score\"] >= 70)]\n",
    "\n",
    "# total_passing = read_math_per / student_count * 100\n",
    "\n",
    "# passing_math_reading_count = school_data_complete[(school_data_complete[\"math_score\"] >= 70) & (school_data_complete[\"reading_score\"] >= 70)].count()[\"student_name\"]\n",
    "\n",
    "# passing_math_reading_count\n",
    "\n",
    "# total_passing = passing_math_reading_count / student_count * 100\n",
    "\n",
    "# total_passing\n"
   ]
  },
  {
   "cell_type": "code",
   "execution_count": null,
   "id": "1f828d7d",
   "metadata": {},
   "outputs": [],
   "source": [
    "# school_data_completetotal_passing = renamed_df.loc[renamed_df[\"Average Math Score\"]>= 70] & renamed_df.loc[renamed_df[\"Average Reading Score\"]>= 70]\n",
    "# total_passing = \n",
    "\n"
   ]
  },
  {
   "cell_type": "code",
   "execution_count": null,
   "id": "94785374",
   "metadata": {},
   "outputs": [],
   "source": [
    "#get rid of extra columns\n",
    "\n",
    "# reduced_df = school_data_complete [[\"School ID\", \"Student ID\",\"budget\",\"math_score\",\"reading_score\",]]\n",
    "\n",
    "\n",
    "# reduced_df\n",
    "\n",
    "\n",
    "\n"
   ]
  },
  {
   "cell_type": "code",
   "execution_count": null,
   "id": "3821ed62",
   "metadata": {},
   "outputs": [],
   "source": [
    "# rename headers\n",
    "\n",
    "# renamed_df = reduced_df.rename(columns={\"School ID\": \"Total Schools\",\n",
    "#                                        \"Student ID\": \"Total Students\", \n",
    "#                                        \"budget\": \"Total Budget\",\n",
    "#                                        \"math_score\": \"Average Math Score\",\n",
    "#                                        \"reading_score\": \"Average Reading Score\",})\n",
    "\n",
    "# renamed_df.head()\n",
    "\n"
   ]
  },
  {
   "cell_type": "code",
   "execution_count": null,
   "id": "730afb3f",
   "metadata": {},
   "outputs": [],
   "source": [
    "# school_data_complete.to_csv(\"Output/schools_complete.csv\", encoding=\"utf-8\", index=False, header=True)\n",
    "# #\n",
    "\n",
    "\n"
   ]
  },
  {
   "cell_type": "code",
   "execution_count": null,
   "id": "e7f8bdd3",
   "metadata": {},
   "outputs": [],
   "source": [
    "# school_count = len(renamed_df[\"Total Schools\"].unique())\n",
    "# school_count"
   ]
  },
  {
   "cell_type": "code",
   "execution_count": null,
   "id": "f9e7bf74",
   "metadata": {},
   "outputs": [],
   "source": [
    "# total_students = len(renamed_df)\n",
    "# total_students"
   ]
  },
  {
   "cell_type": "code",
   "execution_count": null,
   "id": "5e49cbef",
   "metadata": {},
   "outputs": [],
   "source": [
    "# total_budget = school_data[\"budget\"].sum()\n",
    "# total_budget"
   ]
  },
  {
   "cell_type": "code",
   "execution_count": null,
   "id": "e3754656",
   "metadata": {},
   "outputs": [],
   "source": [
    "# average_math_score = renamed_df[\"Average Math Score\"].mean()\n",
    "# average_math_score"
   ]
  },
  {
   "cell_type": "code",
   "execution_count": null,
   "id": "b83ceefe",
   "metadata": {},
   "outputs": [],
   "source": [
    "# average_reading_score = renamed_df[\"Average Reading Score\"].mean()\n",
    "# average_reading_score "
   ]
  },
  {
   "cell_type": "code",
   "execution_count": null,
   "id": "fd0233c5",
   "metadata": {},
   "outputs": [],
   "source": [
    "# total_passing_math_df = renamed_df.loc[renamed_df[\"Average Math Score\"]>= 70]\n",
    "# total_passing_math = len(total_passing_math_df)"
   ]
  },
  {
   "cell_type": "code",
   "execution_count": null,
   "id": "5faaf225",
   "metadata": {},
   "outputs": [],
   "source": [
    "# total_passing_math"
   ]
  },
  {
   "cell_type": "code",
   "execution_count": null,
   "id": "ae6beff5",
   "metadata": {},
   "outputs": [],
   "source": [
    "# percent_passing_math = total_passing_math / total_students * 100\n",
    "# percent_passing_math "
   ]
  },
  {
   "cell_type": "code",
   "execution_count": null,
   "id": "477bf0cd",
   "metadata": {},
   "outputs": [],
   "source": [
    "# total_passing_reading_df = renamed_df.loc[renamed_df[\"Average Reading Score\"]>= 70]\n",
    "# total_passing_reading = len(total_passing_reading_df)"
   ]
  },
  {
   "cell_type": "code",
   "execution_count": null,
   "id": "d555f380",
   "metadata": {},
   "outputs": [],
   "source": [
    "# total_passing_reading"
   ]
  },
  {
   "cell_type": "code",
   "execution_count": null,
   "id": "cffcbde2",
   "metadata": {},
   "outputs": [],
   "source": [
    "# percent_passing_reading = total_passing_reading / total_students * 100\n",
    "# percent_passing_reading"
   ]
  },
  {
   "cell_type": "code",
   "execution_count": null,
   "id": "fc992ea7",
   "metadata": {},
   "outputs": [],
   "source": []
  }
 ],
 "metadata": {
  "kernelspec": {
   "display_name": "Python 3 (ipykernel)",
   "language": "python",
   "name": "python3"
  },
  "language_info": {
   "codemirror_mode": {
    "name": "ipython",
    "version": 3
   },
   "file_extension": ".py",
   "mimetype": "text/x-python",
   "name": "python",
   "nbconvert_exporter": "python",
   "pygments_lexer": "ipython3",
   "version": "3.9.7"
  }
 },
 "nbformat": 4,
 "nbformat_minor": 5
}
